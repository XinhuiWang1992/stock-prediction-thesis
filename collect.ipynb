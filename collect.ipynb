{
 "cells": [
  {
   "cell_type": "markdown",
   "id": "efbf4c66-0d38-4a66-9ef4-0f811b945deb",
   "metadata": {},
   "source": [
    "# Daily rise and fall data"
   ]
  },
  {
   "cell_type": "code",
   "execution_count": 1,
   "id": "94fb4813-0eff-4019-8be1-df6a9bac015a",
   "metadata": {},
   "outputs": [
    {
     "name": "stdout",
     "output_type": "stream",
     "text": [
      "YF.download() has changed argument auto_adjust default to True\n"
     ]
    },
    {
     "name": "stderr",
     "output_type": "stream",
     "text": [
      "[*********************100%***********************]  1 of 1 completed\n"
     ]
    },
    {
     "name": "stdout",
     "output_type": "stream",
     "text": [
      "BABA saved to Alibaba.csv\n"
     ]
    },
    {
     "name": "stderr",
     "output_type": "stream",
     "text": [
      "[*********************100%***********************]  1 of 1 completed\n"
     ]
    },
    {
     "name": "stdout",
     "output_type": "stream",
     "text": [
      "PHG saved to Philips.csv\n"
     ]
    },
    {
     "name": "stderr",
     "output_type": "stream",
     "text": [
      "[*********************100%***********************]  1 of 1 completed\n"
     ]
    },
    {
     "name": "stdout",
     "output_type": "stream",
     "text": [
      "TSLA saved to Tesla.csv\n"
     ]
    },
    {
     "name": "stderr",
     "output_type": "stream",
     "text": [
      "[*********************100%***********************]  1 of 1 completed\n"
     ]
    },
    {
     "name": "stdout",
     "output_type": "stream",
     "text": [
      "AAPL saved to Apple.csv\n"
     ]
    }
   ],
   "source": [
    "import yfinance as yf\n",
    "import pandas as pd\n",
    "import time\n",
    "\n",
    "# Define stock tickers and filenames\n",
    "stocks = {\n",
    "    \"BABA\": \"Alibaba.csv\",\n",
    "    \"PHG\": \"Philips.csv\",\n",
    "    \"TSLA\": \"Tesla.csv\",\n",
    "    \"AAPL\": \"Apple.csv\"\n",
    "}\n",
    "\n",
    "start_date = \"2020-01-01\"\n",
    "end_date = \"2024-12-31\"\n",
    "\n",
    "for ticker, filename in stocks.items():\n",
    "    try:\n",
    "        data = yf.download(ticker, start=start_date, end=end_date)\n",
    "        data = data[[\"Open\", \"Low\", \"High\", \"Close\", \"Volume\"]]\n",
    "        data.to_csv(filename)\n",
    "        print(f\"{ticker} saved to {filename}\")\n",
    "        time.sleep(5)  \n",
    "    except Exception as e:\n",
    "        print(f\"Failed to download {ticker}: {e}\")"
   ]
  },
  {
   "attachments": {},
   "cell_type": "markdown",
   "id": "2f5edc8e-3f9f-4b34-a4a4-4be557d65602",
   "metadata": {},
   "source": [
    "# Data Dictionary\n",
    "### Past Performance Features\n",
    "*   **1D_PastChangePct**: The percentage change between the current day's closing price and the closing price from one trading day prior.\n",
    "*   **20D_PastChangePct**: The percentage change between the current day's closing price and the closing price from twenty trading days prior.\n",
    "\n",
    "### Technical Indicators\n",
    "*   **MA5_GT_MA20**: 1 if the current day's MA5 is greater than the MA20, 0 otherwise.\n",
    "*   **KDJ**:\n",
    "    *   $\\text{RSV}_t = \\frac{\\text{Close}_t - \\text{LowestLow}_t}{\\text{HighestHigh}_t - \\text{LowestLow}_t} \\times 100$\n",
    "    *   $K_t = \\frac{2}{3} K_{t-1} + \\frac{1}{3} \\text{RSV}_t$\n",
    "    *   $D_t = \\frac{2}{3} D_{t-1} + \\frac{1}{3} K_t$\n",
    "    *   $J_t = 3 \\times K_t - 2 \\times D_t$\n",
    "\n",
    "*   **mfi**: Money Flow Index. A technical indicator used to measure the strength of money flowing into or out of a stock, combining price and volume to assess buying and selling pressure.\n",
    "\n",
    "\n",
    "### Macroeconomic & Cross-Market Data\n",
    "*   **Bitcoin_Close**: Daily price of Bitcoin.\n",
    "*   **Gold_Close**: Daily price of Gold.\n",
    "*   **Interest_Rate**: US interest rate."
   ]
  },
  {
   "cell_type": "markdown",
   "id": "67c564cc-7b79-4404-95d3-90c337989bd7",
   "metadata": {},
   "source": [
    "# KDJ calculation"
   ]
  },
  {
   "cell_type": "code",
   "execution_count": 1,
   "id": "f6c1b3ac-a9a1-4f8a-aa5e-4b842098c1a7",
   "metadata": {},
   "outputs": [
    {
     "name": "stdout",
     "output_type": "stream",
     "text": [
      "The history saving thread hit an unexpected error (OperationalError('attempt to write a readonly database')).History will not be written to the database.\n",
      "         Date        RSV          K          D          J\n",
      "8  2020-01-14  92.450267      90.57      88.66      94.39\n",
      "9  2020-01-15  73.834727  84.991576  87.437192  80.100343\n",
      "10 2020-01-16  68.420074  79.467742  84.780708  68.841808\n",
      "11 2020-01-17  60.754909  73.230131  80.930516   57.82936\n",
      "12 2020-01-21  98.282531  81.580931  81.147321  82.448151\n",
      "13 2020-01-22  79.495234  80.885698  81.060113  80.536869\n"
     ]
    }
   ],
   "source": [
    "import pandas as pd\n",
    "\n",
    "# Read the original data\n",
    "df = pd.read_csv(\".csv\")\n",
    "\n",
    "# Ensure the 'Date' column is in datetime format\n",
    "df['Date'] = pd.to_datetime(df['Date'])\n",
    "\n",
    "# Calculate RSV (Raw Stochastic Value)\n",
    "low_9 = df['Low'].rolling(window=9).min()\n",
    "high_9 = df['High'].rolling(window=9).max()\n",
    "df['RSV'] = (df['Close'] - low_9) / (high_9 - low_9) * 100\n",
    "\n",
    "# Initialize K, D, J columns\n",
    "df['K'] = None\n",
    "df['D'] = None\n",
    "df['J'] = None\n",
    "\n",
    "# Set initial values for January 14, 2020\n",
    "initial_date = pd.Timestamp('2020-01-14')\n",
    "initial_k = 90.57\n",
    "initial_d = 88.66\n",
    "initial_j = 94.39\n",
    "\n",
    "start_index = df.index[df['Date'] == initial_date].tolist()\n",
    "if not start_index:\n",
    "    raise ValueError(\"Date 2020-01-14 not found\")\n",
    "start_index = start_index[0]\n",
    "\n",
    "# Fill in the initial values\n",
    "df.loc[start_index, 'K'] = initial_k\n",
    "df.loc[start_index, 'D'] = initial_d\n",
    "df.loc[start_index, 'J'] = initial_j\n",
    "\n",
    "# Calculate K, D, J row by row, starting from the next row\n",
    "for i in range(start_index + 1, len(df)):\n",
    "    rsv = df.loc[i, 'RSV']\n",
    "    prev_k = df.loc[i - 1, 'K']\n",
    "    prev_d = df.loc[i - 1, 'D']\n",
    "    \n",
    "    if pd.notna(rsv) and pd.notna(prev_k) and pd.notna(prev_d):\n",
    "        k = (1/3) * rsv + (2/3) * prev_k\n",
    "        d = (1/3) * k + (2/3) * prev_d\n",
    "        j = 3 * k - 2 * d\n",
    "        df.loc[i, 'K'] = k\n",
    "        df.loc[i, 'D'] = d\n",
    "        df.loc[i, 'J'] = j"
   ]
  },
  {
   "cell_type": "markdown",
   "id": "e5133c99-f85d-4cf6-bf7d-5052ec1c2193",
   "metadata": {},
   "source": [
    "# mfi calculation"
   ]
  },
  {
   "cell_type": "code",
   "execution_count": 1,
   "id": "5ef3b769-815e-43af-a997-a9b3f0c075a7",
   "metadata": {},
   "outputs": [
    {
     "name": "stdout",
     "output_type": "stream",
     "text": [
      "The history saving thread hit an unexpected error (OperationalError('attempt to write a readonly database')).History will not be written to the database.\n"
     ]
    },
    {
     "ename": "NameError",
     "evalue": "name 'df' is not defined",
     "output_type": "error",
     "traceback": [
      "\u001b[0;31m---------------------------------------------------------------------------\u001b[0m",
      "\u001b[0;31mNameError\u001b[0m                                 Traceback (most recent call last)",
      "Cell \u001b[0;32mIn[1], line 4\u001b[0m\n\u001b[1;32m      1\u001b[0m \u001b[38;5;28;01mimport\u001b[39;00m\u001b[38;5;250m \u001b[39m\u001b[38;5;21;01mpandas\u001b[39;00m\u001b[38;5;250m \u001b[39m\u001b[38;5;28;01mas\u001b[39;00m\u001b[38;5;250m \u001b[39m\u001b[38;5;21;01mpd\u001b[39;00m\n\u001b[1;32m      3\u001b[0m \u001b[38;5;66;03m# Calculate Typical Price\u001b[39;00m\n\u001b[0;32m----> 4\u001b[0m df[\u001b[38;5;124m\"\u001b[39m\u001b[38;5;124mTypical_Price\u001b[39m\u001b[38;5;124m\"\u001b[39m] \u001b[38;5;241m=\u001b[39m (\u001b[43mdf\u001b[49m[\u001b[38;5;124m\"\u001b[39m\u001b[38;5;124mHigh\u001b[39m\u001b[38;5;124m\"\u001b[39m] \u001b[38;5;241m+\u001b[39m df[\u001b[38;5;124m\"\u001b[39m\u001b[38;5;124mLow\u001b[39m\u001b[38;5;124m\"\u001b[39m] \u001b[38;5;241m+\u001b[39m df[\u001b[38;5;124m\"\u001b[39m\u001b[38;5;124mClose\u001b[39m\u001b[38;5;124m\"\u001b[39m]) \u001b[38;5;241m/\u001b[39m \u001b[38;5;241m3\u001b[39m\n\u001b[1;32m      6\u001b[0m \u001b[38;5;66;03m# Calculate Raw Money Flow\u001b[39;00m\n\u001b[1;32m      7\u001b[0m df[\u001b[38;5;124m\"\u001b[39m\u001b[38;5;124mRaw_MF\u001b[39m\u001b[38;5;124m\"\u001b[39m] \u001b[38;5;241m=\u001b[39m df[\u001b[38;5;124m\"\u001b[39m\u001b[38;5;124mTypical_Price\u001b[39m\u001b[38;5;124m\"\u001b[39m] \u001b[38;5;241m*\u001b[39m df[\u001b[38;5;124m\"\u001b[39m\u001b[38;5;124mVolume\u001b[39m\u001b[38;5;124m\"\u001b[39m]\n",
      "\u001b[0;31mNameError\u001b[0m: name 'df' is not defined"
     ]
    }
   ],
   "source": [
    "import pandas as pd\n",
    "\n",
    "# Calculate Typical Price\n",
    "df[\"Typical_Price\"] = (df[\"High\"] + df[\"Low\"] + df[\"Close\"]) / 3\n",
    "\n",
    "# Calculate Raw Money Flow\n",
    "df[\"Raw_MF\"] = df[\"Typical_Price\"] * df[\"Volume\"]\n",
    "\n",
    "# Determine the direction of the money flow\n",
    "df[\"TP_diff\"] = df[\"Typical_Price\"].diff()\n",
    "\n",
    "df[\"Positive_Flow\"] = df.apply(\n",
    "    lambda row: row[\"Raw_MF\"] if row[\"TP_diff\"] > 0 else 0, axis=1\n",
    ")\n",
    "df[\"Negative_Flow\"] = df.apply(\n",
    "    lambda row: row[\"Raw_MF\"] if row[\"TP_diff\"] < 0 else 0, axis=1\n",
    ")\n",
    "\n",
    "# 14-day rolling sum\n",
    "df[\"PMF\"] = df[\"Positive_Flow\"].rolling(window=14).sum()\n",
    "df[\"NMF\"] = df[\"Negative_Flow\"].rolling(window=14).sum()\n",
    "\n",
    "# Calculate Money Ratio and MFI\n",
    "df[\"Money_Ratio\"] = df[\"PMF\"] / df[\"NMF\"]\n",
    "df[\"mfi\"] = 100 - 100 / (1 + df[\"Money_Ratio\"])"
   ]
  },
  {
   "cell_type": "code",
   "execution_count": null,
   "id": "2b603545-f745-4e2e-b0db-182bf4520466",
   "metadata": {},
   "outputs": [],
   "source": []
  },
  {
   "cell_type": "markdown",
   "id": "beca73d0-7728-4d5c-a175-44671df289f4",
   "metadata": {},
   "source": [
    "# Others"
   ]
  },
  {
   "cell_type": "code",
   "execution_count": null,
   "id": "ada9e1a6-1341-479f-bb43-c45085cbb22e",
   "metadata": {},
   "outputs": [],
   "source": [
    "import pandas as pd\n",
    "import numpy as np\n",
    "\n",
    "# Read the data\n",
    "df = pd.read_csv('.csv')\n",
    "\n",
    "# Date processing and sorting\n",
    "df['Date'] = pd.to_datetime(df['Date'])\n",
    "df = df.sort_values('Date').reset_index(drop=True)\n",
    "\n",
    "df['1D_Up'] = (df['1D_ChangePct'] > 0).astype(int)\n",
    "df['20D_Up'] = (df['20D_ChangePct'] > 0).astype(int)\n",
    "\n",
    "df['1D_PastChangePct'] = (df['Close'] - df['Close'].shift(1)) / df['Close'].shift(1)\n",
    "df['20D_PastChangePct'] = (df['Close'] - df['Close'].shift(20)) / df['Close'].shift(20)\n",
    "\n",
    "df['MA5_GT_MA20'] = (df['MA5'] > df['MA20']).astype(int)\n"
   ]
  },
  {
   "cell_type": "markdown",
   "id": "9864e80c-cb62-4188-91fb-700b1331edc1",
   "metadata": {},
   "source": [
    "## MACD RSI"
   ]
  },
  {
   "cell_type": "code",
   "execution_count": 8,
   "id": "1233c41d-01ce-4288-bcf2-ed177101ed46",
   "metadata": {},
   "outputs": [
    {
     "name": "stdout",
     "output_type": "stream",
     "text": [
      "Tesla features saved to Tesla_features.csv\n",
      "Alibaba features saved to Alibaba_features.csv\n",
      "Apple features saved to Apple_features.csv\n",
      "Philips features saved to Philips_features.csv\n"
     ]
    }
   ],
   "source": [
    "import pandas as pd\n",
    "\n",
    "def calculate_features(df, company_name):\n",
    "    close = df['close']\n",
    "    volume = df['volume']\n",
    "\n",
    "    ema12 = close.ewm(span=12, adjust=False).mean()\n",
    "    ema26 = close.ewm(span=26, adjust=False).mean()\n",
    "    macd = ema12 - ema26\n",
    "    signal = macd.ewm(span=9, adjust=False).mean()\n",
    "    macd_diff = macd - signal\n",
    "\n",
    "    delta = close.diff()\n",
    "    gain = delta.where(delta > 0, 0)\n",
    "    loss = -delta.where(delta < 0, 0)\n",
    "    avg_gain = gain.rolling(14).mean()\n",
    "    avg_loss = loss.rolling(14).mean()\n",
    "    rs = avg_gain / avg_loss\n",
    "    rsi = 100 - (100 / (1 + rs))\n",
    "\n",
    "    ma20 = close.rolling(window=20).mean()\n",
    "    std20 = close.rolling(window=20).std()\n",
    "    upper = ma20 + 2 * std20\n",
    "    lower = ma20 - 2 * std20\n",
    "    bb_rel_pos = (close - lower) / (upper - lower)\n",
    "\n",
    "    vol_change = volume.pct_change()\n",
    "\n",
    "    label = (close.shift(-1) > close).astype(int)\n",
    "\n",
    "    df['MACD'] = macd\n",
    "    df['MACD_diff'] = macd_diff\n",
    "    df['RSI'] = rsi\n",
    "    df['BB_rel_pos'] = bb_rel_pos\n",
    "    df['Vol_Change'] = vol_change\n",
    "    df['Label'] = label\n",
    "    df['Company'] = company_name\n",
    "\n",
    "    df.rename(columns={'date': 'Date'}, inplace=True)\n",
    "\n",
    "    return df[['Date','Company', 'MACD', 'MACD_diff', 'RSI', 'BB_rel_pos', 'Vol_Change']]\n",
    "\n",
    "file_map = {\n",
    "    'Tesla': 'Tesla_price.csv',\n",
    "    'Alibaba': 'Alibaba_price.csv',\n",
    "    'Apple': 'Apple_price.csv',\n",
    "    'Philips': 'Philips_price.csv',\n",
    "}\n",
    "\n",
    "for name, file in file_map.items():\n",
    "    df = pd.read_csv(file)\n",
    "    df.columns = [col.lower() for col in df.columns]\n",
    "    if 'close' not in df.columns or 'volume' not in df.columns or 'date' not in df.columns:\n",
    "        print(f\"{name} skipped: missing required columns.\")\n",
    "        continue\n",
    "    df = calculate_features(df, name)\n",
    "    output_path = f\"{name}_features.csv\"\n",
    "    df.to_csv(output_path, index=False)\n",
    "    print(f\"{name} features saved to {output_path}\")"
   ]
  },
  {
   "cell_type": "code",
   "execution_count": null,
   "id": "c5e4c176-50c8-4bc2-b0a0-dd5854c14686",
   "metadata": {},
   "outputs": [],
   "source": []
  }
 ],
 "metadata": {
  "kernelspec": {
   "display_name": "Python (myenv)",
   "language": "python",
   "name": "myenv"
  },
  "language_info": {
   "codemirror_mode": {
    "name": "ipython",
    "version": 3
   },
   "file_extension": ".py",
   "mimetype": "text/x-python",
   "name": "python",
   "nbconvert_exporter": "python",
   "pygments_lexer": "ipython3",
   "version": "3.9.18"
  }
 },
 "nbformat": 4,
 "nbformat_minor": 5
}
